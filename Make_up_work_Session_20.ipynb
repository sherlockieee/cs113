{
  "nbformat": 4,
  "nbformat_minor": 0,
  "metadata": {
    "colab": {
      "provenance": [],
      "authorship_tag": "ABX9TyNx8ADwt0JfMh6kkJBpQLn+",
      "include_colab_link": true
    },
    "kernelspec": {
      "name": "python3",
      "display_name": "Python 3"
    },
    "language_info": {
      "name": "python"
    }
  },
  "cells": [
    {
      "cell_type": "markdown",
      "metadata": {
        "id": "view-in-github",
        "colab_type": "text"
      },
      "source": [
        "<a href=\"https://colab.research.google.com/github/sherlockieee/cs113/blob/main/Make_up_work_Session_20.ipynb\" target=\"_parent\"><img src=\"https://colab.research.google.com/assets/colab-badge.svg\" alt=\"Open In Colab\"/></a>"
      ]
    },
    {
      "cell_type": "markdown",
      "source": [
        "# Pre-class Work\n",
        "Two fair six-sided dice are rolled (one green and one orange), with outcomes \n",
        "$X$ and \n",
        "$Y$ respectively for the green and the orange.\n",
        "\n",
        "\n",
        "\n",
        "(a) Compute the covariance of $X+Y$ and $X−Y$."
      ],
      "metadata": {
        "id": "TcXznM5jZJdF"
      }
    },
    {
      "cell_type": "code",
      "execution_count": null,
      "metadata": {
        "id": "Bo-1xp4PZCHu"
      },
      "outputs": [],
      "source": [
        "'''\n",
        "Var(X) = Var(Y) because they both represent the outcomes of 6-sided dices. \n",
        "Cov(X+Y,X-Y) \n",
        "= E((X + Y)(X - Y))−E(X+Y)E(X-Y)\n",
        "= E(X^2 - Y^2) - E(X+Y)E(X-Y)\n",
        "= E(X^2) - E(Y^2) - (E(X) + E(Y))(E(X) - E(Y))\n",
        "= E(X^2) - E(Y^2) - E(X)^2 + E(Y)^2\n",
        "= Var(X) - Var(Y)\n",
        "= 0\n",
        "'''\n",
        "\n",
        "# Write your answer as a number. For example, answer = 0.1. \n",
        "answer = 0"
      ]
    },
    {
      "cell_type": "markdown",
      "source": [
        "(b) Are $X+Y$ and $X−Y$ independent?"
      ],
      "metadata": {
        "id": "bH0tdeXpZsrY"
      }
    },
    {
      "cell_type": "code",
      "source": [
        "'''\n",
        "No, because Cov(X+Y, X-Y) = 0 doesn't imply they are independent. \n",
        "In this case, X+Y is correlated to X-Y but dependent\n",
        "because we can imagine knowing X+Y is very large => we can deduce that both X and Y must be large => X - Y is small\n",
        "'''\n",
        "\n",
        "# Write your answer as 'yes' or 'no'.\n",
        "# Uncomment one:\n",
        "#answer = 'yes'\n",
        "answer = 'no'"
      ],
      "metadata": {
        "id": "2kWf3yPmZyY9"
      },
      "execution_count": 1,
      "outputs": []
    },
    {
      "cell_type": "markdown",
      "source": [
        "### Multinomial distribution "
      ],
      "metadata": {
        "id": "C8v-75Z1Z4aK"
      }
    },
    {
      "cell_type": "code",
      "source": [
        "import scipy.stats as sts\n",
        "import numpy as np\n",
        "\n",
        "p = np.array([1/10, 2/10, 3/10, 4/10])  # An unfair 4-sided die\n",
        "n = 10  # Roll the die 20 times\n",
        "\n",
        "# Create the distribution\n",
        "dist = sts.multinomial(n, p)\n",
        "\n",
        "# Generate random samples. Each sample is a vector of 4 counts\n",
        "print(f'Three random samples with n = {n}:')\n",
        "print(dist.rvs(3))\n",
        "\n",
        "# When we roll the die many times (when n is large), we expect the counts to get\n",
        "# close to the average counts.\n",
        "n = 10000\n",
        "dist = sts.multinomial(n, p)\n",
        "print(f'\\nExpected counts with n = {n}:')\n",
        "print(n * p)\n",
        "print(f'\\nA random sample with n = {n}:')\n",
        "print(dist.rvs())"
      ],
      "metadata": {
        "colab": {
          "base_uri": "https://localhost:8080/",
          "height": 0
        },
        "id": "_JqIg8D-Z34e",
        "outputId": "fbc13be5-a073-4305-815f-ccbe8448988c"
      },
      "execution_count": 2,
      "outputs": [
        {
          "output_type": "stream",
          "name": "stdout",
          "text": [
            "Three random samples with n = 10:\n",
            "[[1 2 4 3]\n",
            " [1 2 1 6]\n",
            " [1 5 1 3]]\n",
            "\n",
            "Expected counts with n = 10000:\n",
            "[1000. 2000. 3000. 4000.]\n",
            "\n",
            "A random sample with n = 10000:\n",
            "[[ 989 1965 3016 4030]]\n"
          ]
        }
      ]
    },
    {
      "cell_type": "markdown",
      "source": [
        "###Required practice: Student sample\n",
        "\n",
        "\n",
        "A certain course has $a$ freshmen, \n",
        "$b$ sophomores, \n",
        "$c$ juniors, and \n",
        "$d$ seniors. Let \n",
        "$X$ be the number of freshmen and sophomores (total), \n",
        "$Y$ be the number of juniors, and \n",
        "$Z$ be the number of seniors in a random sample of size \n",
        "$n$. All random samples have the same probability.\n",
        "\n",
        "\n",
        "\n",
        "(a) Find the joint PMF of \n",
        "$X,Y,Z$ when sampling with replacement."
      ],
      "metadata": {
        "id": "_aS6Jgo4aAd5"
      }
    },
    {
      "cell_type": "code",
      "source": [
        "'''\n",
        "This is multinomial distribution => we just need to use the formula\n",
        "'''\n",
        "\n",
        "# Write your answer as a symbolic expression in terms of n, a, b, c, and d\n",
        "# evaluated at (X=x, Y=y, Z=z). For example, answer = n / (a+b+c) * (x+y+z).\n",
        "from sympy.abc import a, b, c, d, n, x, y, z\n",
        "from sympy import binomial, factorial\n",
        "answer = factorial(x + y + z)/(factorial(x)*factorial(y)*factorial(z)) * ((a + b)/(a+b+c+d))**x * (c/(a+b+c+d))**y * (d/(a+b+c+d))**z"
      ],
      "metadata": {
        "id": "C_jARvuvZ0S-"
      },
      "execution_count": 3,
      "outputs": []
    },
    {
      "cell_type": "markdown",
      "source": [
        "(b) Find the joint PMF of ﻿\n",
        "$X,Y,Z$\n",
        " when sampling without replacement."
      ],
      "metadata": {
        "id": "7SM3EsGdaXCX"
      }
    },
    {
      "cell_type": "code",
      "source": [
        "'''\n",
        "We are choosing x students from a + b freshmen + sophomores;\n",
        "y students from c juniors;\n",
        "and z students from d seniors;\n",
        "over the sample space of choosing n students out of a+b+c+d students.\n",
        "'''\n",
        "\n",
        "# Write your answer as a symbolic expression in terms of n, a, b, c, and d\n",
        "# evaluated at (X=x, Y=y, Z=z). For example, answer = n / (a+b+c) * (x+y+z).\n",
        "from sympy.abc import a, b, c, d, n, x, y, z\n",
        "from sympy import binomial, factorial\n",
        "\n",
        "answer = binomial(a+b, x) * binomial(c, y) * binomial(d, z)/ binomial(a + b + c + d, n)"
      ],
      "metadata": {
        "id": "HPhjScCaaTFa"
      },
      "execution_count": 4,
      "outputs": []
    },
    {
      "cell_type": "markdown",
      "source": [
        "###Multivariate Normal distribution\n",
        "We use `sts.multivariate_normal(mean_vector, covariance_matrix)` to create a Multivariate Normal distribution.\n",
        "\n"
      ],
      "metadata": {
        "id": "gJLmQ6QmafgJ"
      }
    },
    {
      "cell_type": "code",
      "source": [
        "import matplotlib.pyplot as plt\n",
        "import scipy.stats as sts\n",
        "import numpy as np\n",
        "\n",
        "# Create a bivariate (2-dimensional) Normal distribution\n",
        "mean = np.array([-1.5, 1.5])  # Mean parameter\n",
        "print('Mean μ:')\n",
        "print(mean)\n",
        "\n",
        "cov = np.array([[1.0, 0.5], [0.5, 2.0]])  # Covariance parameter\n",
        "print('Covariance Σ:')\n",
        "print(cov)\n",
        "\n",
        "dist = sts.multivariate_normal(mean, cov)  # The distribution\n",
        "\n",
        "# Generate 1000 samples from the distribution\n",
        "samples = dist.rvs(1000)\n",
        "print('First random sample:')\n",
        "print(samples[0])\n",
        "\n",
        "# Plot the samples\n",
        "plt.figure(figsize=(6, 6))\n",
        "plt.title('Samples from a Multivariate Normal distribution')\n",
        "plt.xlabel('$x_1$')\n",
        "plt.ylabel('$x_2$')\n",
        "plt.axis('equal')\n",
        "plt.plot(samples[:, 0], samples[:, 1], '.', alpha=1/3, label='samples')\n",
        "plt.plot([mean[0]], [mean[1]], 'ro', label='mean')\n",
        "plt.axhline(0, color='black', linewidth=1)\n",
        "plt.axvline(0, color='black', linewidth=1)\n",
        "plt.legend()\n",
        "plt.show()\n",
        "\n",
        "# Plot the PDF\n",
        "plt.figure(figsize=(6, 5))\n",
        "plt.title('Contour plot of the Multivariate Normal PDF')\n",
        "plt.xlabel('$x_1$')\n",
        "plt.ylabel('$x_2$')\n",
        "plt.axis('equal')\n",
        "x, y = np.mgrid[-6:3:.1, -3:6:.1]\n",
        "points = np.dstack((x, y))\n",
        "plt.contourf(x, y, dist.pdf(points), levels=10)\n",
        "plt.axhline(0, color='white', linewidth=1)\n",
        "plt.axvline(0, color='white', linewidth=1)\n",
        "plt.colorbar()\n",
        "plt.show()"
      ],
      "metadata": {
        "colab": {
          "base_uri": "https://localhost:8080/",
          "height": 1000
        },
        "id": "hKbLldmfabtI",
        "outputId": "6dd4f8ec-9606-463d-f7bf-93e961521f70"
      },
      "execution_count": 6,
      "outputs": [
        {
          "output_type": "stream",
          "name": "stdout",
          "text": [
            "Mean μ:\n",
            "[-1.5  1.5]\n",
            "Covariance Σ:\n",
            "[[1.  0.5]\n",
            " [0.5 2. ]]\n",
            "First random sample:\n",
            "[-1.59216623  1.51744394]\n"
          ]
        },
        {
          "output_type": "display_data",
          "data": {
            "text/plain": [
              "<Figure size 600x600 with 1 Axes>"
            ],
            "image/png": "[encoded data removed]"
          },
          "metadata": {}
        },
        {
          "output_type": "display_data",
          "data": {
            "text/plain": [
              "<Figure size 600x500 with 2 Axes>"
            ],
            "image/png": "[encoded data removed]"
          },
          "metadata": {}
        }
      ]
    },
    {
      "cell_type": "markdown",
      "source": [
        "###Required practice: Birthdays\n",
        "\n",
        "\n",
        "Let $X$ be the number of distinct birthdays in a group of 110 people (i.e., the number of days in a year such that at least one person in the group has that birthday). Use the usual assumptions: no February 29, all the other 365 days of the year are equally likely, and the day when one person is born is independent of the days when the other people are born.\n",
        "\n",
        "\n",
        "\n",
        "(a) Find the mean of $X$.\n",
        "\n",
        "Hint: Use indicator r.v.s to identify whether a particular day has at least one person's birthday on it.\n"
      ],
      "metadata": {
        "id": "CalxShmqasg5"
      }
    },
    {
      "cell_type": "code",
      "source": [
        "'''\n",
        "Let I_A be the indicator variable when a particular day has at least 1 person's birthday.\n",
        "I_A = 1 - (364/365)^110\n",
        "Because if a day has 0 person's birthday, then we can choose 364/365 days and have to\n",
        "repeat for 110 people => I_A is the complement of that\n",
        "\n",
        "Mean = Sum(I_A) from 1 to 365 => multiply I_A by 365\n",
        "'''\n",
        "# Write your answer as a number. For example, answer = 34.\n",
        "from sympy import Sum\n",
        "from sympy.abc import x\n",
        "answer = 365 * ( 1 - (364/365)**110)\n",
        "print(answer)"
      ],
      "metadata": {
        "colab": {
          "base_uri": "https://localhost:8080/",
          "height": 0
        },
        "id": "-z3JKhQgamJw",
        "outputId": "0efe5505-c1bf-4ee1-9bbd-5ecabea4ce96"
      },
      "execution_count": 7,
      "outputs": [
        {
          "output_type": "stream",
          "name": "stdout",
          "text": [
            "95.08316324081945\n"
          ]
        }
      ]
    },
    {
      "cell_type": "markdown",
      "source": [
        "(b) Find the variance of $X$.\n",
        "\n",
        "\n",
        "\n",
        "Hint: Use the properties of the covariance from the reading to determine \n",
        "$Var(X)$."
      ],
      "metadata": {
        "id": "E3zDKTLYbNYa"
      }
    },
    {
      "cell_type": "code",
      "source": [
        "\"\"\"\n",
        "Let p = I_A = 1 - (364/365)^110\n",
        "Cov(I_A1, I_A2) \n",
        "= E(I_A1, I_A2) - p**2\n",
        "Probability that both day A1 and day A2 has at least 1 person's birthday\n",
        "= Complement of both days have no birthday\n",
        "= 1 - (2 * (364/365)^110 - (363/365)^110)\n",
        "Both days have no birthday = 2 * (364/365)^110, \n",
        "then we need to remove the double counting \n",
        "\n",
        "Var(X) = 365 * Var(I_A) + 2 * 365C2Cov(I_A1, I_A2)\n",
        "Var(I_A) =  1 - (364/365)^110 - (1 - (364/365)^110)^2\n",
        "\n",
        "\"\"\"\n",
        "var =  1 - (364/365)**110 - (1 - (364/365)**110)**2\n",
        "\n",
        "cov = 1 - (2 * (364/365)**110 - (363/365)**110) - (1 - (364/365)**110)**2\n",
        "\n",
        "ans = var * 365 + 2 * cov * binomial(365, 2)\n",
        "print(ans)\n"
      ],
      "metadata": {
        "colab": {
          "base_uri": "https://localhost:8080/",
          "height": 0
        },
        "id": "2SXC5D53bLKR",
        "outputId": "8c0ec27b-2a51-4f1f-ca3e-4d1fb2909c81"
      },
      "execution_count": 9,
      "outputs": [
        {
          "output_type": "stream",
          "name": "stdout",
          "text": [
            "10.0190401196222\n"
          ]
        }
      ]
    },
    {
      "cell_type": "markdown",
      "source": [
        "(c) Write a simulation to confirm your answer.\n",
        "\n",
        "\n",
        "\n",
        "Generate birthday samples, count the number of distinct birthdays using `numpy.unique()` (which returns an array of distinct values), plot a histogram of your results over at least 1000 trials. Then, plot a Normal PDF on top of this histogram, using the mean and variance from (a) and (b) to construct the Normal.\n",
        "\n",
        "\n",
        "\n",
        "How well do the histogram and the PDF match?"
      ],
      "metadata": {
        "id": "JzeJyto7hfvP"
      }
    },
    {
      "cell_type": "code",
      "source": [
        "import numpy as np\n",
        "import scipy.stats as sts\n",
        "import matplotlib.pyplot as plt\n",
        "import random\n",
        "\n",
        "trials = 1000\n",
        "results = []\n",
        "for _ in range(trials):\n",
        "\n",
        "    # YOUR SIMULATION HERE\n",
        "    birthdays = set()\n",
        "    for i in range(110):\n",
        "        birthday = random.randint(1, 365)\n",
        "        birthdays.add(birthday)\n",
        "\n",
        "    results.append(len(birthdays))\n",
        "\n",
        "\n",
        "# YOUR ANSWERS FROM (a) AND (b) HERE\n",
        "mean = 365 * ( 1 - (364/365)**110)\n",
        "var = 10.019040119622225\n",
        "\n",
        "# Make a plot. (You shouldn't have to modify this code.)\n",
        "plt.figure(figsize=(6, 4))\n",
        "bins = np.arange(min(results), max(results)+2)-0.5\n",
        "plt.hist(results, bins=bins, edgecolor='white', density=True)\n",
        "x = np.linspace(bins[0], bins[-1], 200)\n",
        "plt.plot(x, sts.norm.pdf(x, mean, var**0.5), 'r-')\n",
        "plt.show()"
      ],
      "metadata": {
        "colab": {
          "base_uri": "https://localhost:8080/",
          "height": 368
        },
        "id": "bQ95tD4ZdQzN",
        "outputId": "0fb65bfe-aee3-47a6-ad8f-a4429af2d9ae"
      },
      "execution_count": 10,
      "outputs": [
        {
          "output_type": "display_data",
          "data": {
            "text/plain": [
              "<Figure size 600x400 with 1 Axes>"
            ],
            "image/png": "[encoded data removed]"
          },
          "metadata": {}
        }
      ]
    },
    {
      "cell_type": "markdown",
      "source": [
        "# Breakout problem"
      ],
      "metadata": {
        "id": "m1lCLfnyhxxJ"
      }
    },
    {
      "cell_type": "markdown",
      "source": [
        "###Secret Santa\n",
        "\n",
        "\n",
        "Each of \n",
        "$n≥2$ people puts his or her name on a slip of paper (no two have the same name). The slips of paper are shuffled in a hat, and then each person draws one (uniformly at random at each stage, without replacement).\n",
        "\n",
        "\n",
        "\n",
        "(a) Find the standard deviation of the number of people who draw their own names."
      ],
      "metadata": {
        "id": "9vOc9POfh2CS"
      }
    },
    {
      "cell_type": "code",
      "source": [
        "'''\n",
        "Reminder: SD is sqrt of variance\n",
        "X - the r.v. of the # of people who draw their own names \n",
        "Ij = 1 is their own name, 0 otherwise \n",
        "E(Ij) = 1 / n = P(x) \n",
        "E(X) = n * (1/n) \n",
        "\n",
        "Var(Ij) = 1/n - (1/n)**2\n",
        "Cov(Ij, Ii) \n",
        "= E(Ij, Ii) - E(Ij) * E(Ii)\n",
        "= E(Ij, Ii) - (1/n) ** 2\n",
        "= 1/n * 1/(n - 1) - (1/n)**2\n",
        "\n",
        "Var(X) = n * Var(Ij) + 2 * nC2 * Cov(Ij, Ii)\n",
        "= n * (1/n - (1/n)**2) + n * (n - 1) * (1/n * 1/(n - 1) - (1/n)**2)\n",
        "= 1 - 1/n + (1 - (n - 1)/n)\n",
        "= 1 - 1/n + 1/n\n",
        "= 1\n",
        "\n",
        "'''\n",
        "\n",
        "# Write your answer as a number. For example, answer = 1. \n",
        "\n",
        "answer = 1"
      ],
      "metadata": {
        "id": "1KBaqkmBhli5"
      },
      "execution_count": 11,
      "outputs": []
    },
    {
      "cell_type": "markdown",
      "source": [
        "(b) Write a simulation to check your answer to (a).\n",
        "\n"
      ],
      "metadata": {
        "id": "jESiZ_nuh_oa"
      }
    },
    {
      "cell_type": "code",
      "source": [
        "import numpy as np\n",
        "\n",
        "n = 20\n",
        "\n",
        "trials = 1000\n",
        "results = []\n",
        "for i in range(trials):\n",
        "\n",
        "    # TASK: Generate a random order of names\n",
        "    names = [i for i in range(n)]\n",
        "    np.random.shuffle(names)\n",
        "    # TASK: Count how many people got their own name\n",
        "    count = sum([i == names[i] for i in range(n)])\n",
        "\n",
        "    results.append(count)\n",
        "\n",
        "print('Standard deviation:', np.std(results))"
      ],
      "metadata": {
        "colab": {
          "base_uri": "https://localhost:8080/",
          "height": 0
        },
        "id": "HWVteUb3h9ap",
        "outputId": "58b51f8e-abcc-489c-f9db-a6d68a4e3510"
      },
      "execution_count": 13,
      "outputs": [
        {
          "output_type": "stream",
          "name": "stdout",
          "text": [
            "Standard deviation: 0.9708532329863253\n"
          ]
        }
      ]
    },
    {
      "cell_type": "markdown",
      "source": [
        "###Random triangle\n",
        "\n",
        "\n",
        "A random triangle is formed in some way, such that the angles are identically distributed.\n",
        "\n",
        "\n",
        "\n",
        "(a) What is the correlation between two of the angles (assuming that the variance of the angles is nonzero)?\n",
        "\n",
        "\n",
        "\n",
        "Hint: You might want to do part (b) first if you're stuck. Use the simulation there to give you a hint about what the answer to (a) should be."
      ],
      "metadata": {
        "id": "Kzu7LtPwkl1q"
      }
    },
    {
      "cell_type": "code",
      "source": [
        "\"\"\"\n",
        "E(A) = E(B) = E(C) = pi/3\n",
        "Corr(A, B) = Cov(A, B)/sqrt(Var(A), Var(B))\n",
        "Var(A) = Var(B) = E(A^2) - E(A)^2 = E(A^2) - pi^2/9\n",
        "Cov(A, B) \n",
        "= E(A, B) - E(A)E(B)\n",
        "= E(A, B) - pi^2/9\n",
        "\n",
        "E((A + B + C)^2) = pi^2\n",
        "E(A^2) + E(B^2) + E(C^2) + 2E(A, B) + 2E(B, C) + 2E(A, C) = pi^2\n",
        "6E(A, B) + 3E(A^2) = pi^2\n",
        "E(A, B) = pi^2/6 - E(A^2)/2\n",
        "\n",
        "Corr(A, B) = Cov(A, B)/ sqrt(Var(A) * Var(B))\n",
        "= Cov(A, B)/ sqrt(Var(A)**2)\n",
        "= Cov(A, B)/Var(A)\n",
        "= (E(A, B) - pi^2/9)/(E(A^2) - pi^2/9)\n",
        "= (pi^2/6 - E(A^2)/2 - pi^2/9)/(E(A^2) - pi^2/9)\n",
        "= (-1/2 * (E(A^2) - pi^2/9))/(E(A^2) - pi^2/9)\n",
        "= -1/2\n",
        "\"\"\"\n",
        "ans = -1/2"
      ],
      "metadata": {
        "id": "kMIlYt6MkzCP"
      },
      "execution_count": 2,
      "outputs": []
    },
    {
      "cell_type": "markdown",
      "source": [
        "(b) Confirm your answer to (a) with a simulation by generating 3 i.i.d. Uniform(0, 1) random values, dividing them by their sum and multiplying by \n",
        "$π$ to get 3 identically distributed random values that add up to \n",
        "$π$ and can therefore be considered the interior angles of a triangle."
      ],
      "metadata": {
        "id": "Jzj8qIAlko8f"
      }
    },
    {
      "cell_type": "code",
      "source": [
        "# Write your simulation here. Generate lots of values for A and B and use\n",
        "# np.corrcoef(A, B) on two arrays A and B to compute the 2 x 2 correlation\n",
        "# matrix between the arrays. The diagonal \n",
        "\n",
        "import numpy as np\n",
        "\n",
        "# TASK: Generate random values and compute their correlation\n",
        "A = []\n",
        "B = []\n",
        "trials = 100000\n",
        "for _ in range(trials):\n",
        "    a, b, c = np.random.rand(3)\n",
        "    sum_val = a + b + c\n",
        "    a = (a/sum_val) * np.pi\n",
        "    b = (b/sum_val) * np.pi\n",
        "    A.append(a)\n",
        "    B.append(b)\n",
        "\n",
        "\n",
        "print('Corr(A,B) =', np.corrcoef(A, B)[0,1])\n",
        "print('Correlation matrix:\\n', np.corrcoef(A, B))"
      ],
      "metadata": {
        "colab": {
          "base_uri": "https://localhost:8080/",
          "height": 0
        },
        "id": "Wv69EhdokusX",
        "outputId": "bc0536f1-81f8-4511-b652-91180a3f460b"
      },
      "execution_count": 47,
      "outputs": [
        {
          "output_type": "stream",
          "name": "stdout",
          "text": [
            "Corr(A,B) = -0.5003244945231176\n",
            "Correlation matrix:\n",
            " [[ 1.         -0.50032449]\n",
            " [-0.50032449  1.        ]]\n"
          ]
        }
      ]
    },
    {
      "cell_type": "markdown",
      "source": [
        "###Transformed r.v.\n",
        "\n",
        "\n",
        "Let $U∼Uniform(−1,1)$ and \n",
        "$V=2∣U∣−1$.\n",
        "\n",
        "\n",
        "\n",
        "(a) Find the distribution of\n",
        "$V$. Give the PDF and, if it is a named distribution we have studied, its name and parameters.\n",
        "\n",
        "\n",
        "\n",
        "Hint: Find the support of\n",
        "$V$, and then find the CDF of \n",
        "$V$ by reducing \n",
        "$P(V≤v)$ to probability calculations about \n",
        "$U$."
      ],
      "metadata": {
        "id": "h-yFTsLziHs3"
      }
    },
    {
      "cell_type": "code",
      "source": [
        "'''\n",
        "P(V < v) \n",
        "= P(2 |U| - 1 < v)\n",
        "= P(|U| < (v + 1)/2)\n",
        "= P( -(v + 1)/2 < U < (v + 1)/2)\n",
        "= F_U((v + 1)/2) - F_U((-v - 1)/2)\n",
        "= 1/2 * (v + 1)/2 - 1/2 * (-v - 1)/2\n",
        "= (v + 1)/2\n",
        "=> PDF = 1/2\n",
        "=> V ~ Unif(-1, 1)\n",
        "'''\n",
        "ans = 1/2"
      ],
      "metadata": {
        "id": "7WQanjAliDHN"
      },
      "execution_count": 1,
      "outputs": []
    },
    {
      "cell_type": "markdown",
      "source": [
        "(b) Show that \n",
        "$U$ and $V$ are uncorrelated, but not independent. This is also another example illustrating the fact that knowing the marginal distributions of two r.v.s does not determine the joint distribution."
      ],
      "metadata": {
        "id": "HVFU6m7ekRIM"
      }
    },
    {
      "cell_type": "code",
      "source": [
        "\"\"\"\n",
        "U and V are not independent because V = 2|U| - 1\n",
        "\n",
        "Cov(U, V) = E(UV) - E(U)E(V)\n",
        "E(V) = E(U) = 0\n",
        "E(UV) = E(U ( 2|U| - 1)) = E(2U|U| - U) = E(2U|U|) - E(U)\n",
        "= E(-2U^2|U < 0)P(U < 0) + E(2U^2|U > 0)P(U > 0) - 0\n",
        "= integral(- 2 * (1/2)**2)(from -1 to 0) * 1/2 + integral(2 * (1/2)**2)(from 0 to 1)\n",
        "= -1/2 + 1/2 = 0\n",
        "Hence Cov(U, V) = 0\n",
        "\"\"\""
      ],
      "metadata": {
        "id": "z949bepzkQ3X"
      },
      "execution_count": null,
      "outputs": []
    }
  ]
}