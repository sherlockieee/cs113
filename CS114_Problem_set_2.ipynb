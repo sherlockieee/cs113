{
  "nbformat": 4,
  "nbformat_minor": 0,
  "metadata": {
    "colab": {
      "provenance": [],
      "authorship_tag": "ABX9TyPPoNddvqFJif5uYlcVI/1J",
      "include_colab_link": true
    },
    "kernelspec": {
      "name": "python3",
      "display_name": "Python 3"
    },
    "language_info": {
      "name": "python"
    }
  },
  "cells": [
    {
      "cell_type": "markdown",
      "metadata": {
        "id": "view-in-github",
        "colab_type": "text"
      },
      "source": [
        "<a href=\"https://colab.research.google.com/github/sherlockieee/cs113/blob/main/CS114_Problem_set_2.ipynb\" target=\"_parent\"><img src=\"https://colab.research.google.com/assets/colab-badge.svg\" alt=\"Open In Colab\"/></a>"
      ]
    },
    {
      "cell_type": "markdown",
      "source": [
        "# QUESTION 1\n"
      ],
      "metadata": {
        "id": "nfvc14MKWMSW"
      }
    },
    {
      "cell_type": "code",
      "execution_count": 28,
      "metadata": {
        "colab": {
          "base_uri": "https://localhost:8080/"
        },
        "id": "FCLW6nQQWHyX",
        "outputId": "fab91b01-01ab-45c6-8fa2-ee02346207c7"
      },
      "outputs": [
        {
          "output_type": "stream",
          "name": "stdout",
          "text": [
            "Loading image data from: https://www.sympy.org/static/images/logo.png\n",
            "\n",
            "Number of bits (total): 225672\n",
            "Number of 0s: 112392\n",
            "Number of 1s: 113280\n",
            "\n",
            "Number of runs (any length): 113198\n",
            "Runs of length 1:  56241\n",
            "Runs of length 2:  28831\n",
            "Runs of length 3:  14438\n"
          ]
        }
      ],
      "source": [
        "import urllib.request\n",
        "from collections import defaultdict\n",
        "import numpy as np\n",
        "# Load the image data from sympy.org\n",
        "url = 'https://www.sympy.org/static/images/logo.png'\n",
        "print('Loading image data from:', url)\n",
        "\n",
        "with urllib.request.urlopen(url) as fp:\n",
        "    image_data = fp.read()\n",
        "\n",
        "# Convert the image data into an array of bits (0s and 1s)\n",
        "bits = []\n",
        "for byte in image_data: # Each byte of data contains 8 bits (0s and 1s)\n",
        "    bits.extend(int(_) for _ in bin(256 + byte)[3:])\n",
        "bits = np.array(bits)\n",
        "\n",
        "# Count the 0s and 1s\n",
        "print()\n",
        "print(f'Number of bits (total): {len(bits):6}')\n",
        "print(f'Number of 0s: {np.sum(bits == 0):6}')\n",
        "print(f'Number of 1s: {np.sum(bits == 1):6}')\n",
        "\n",
        "# Count the runs and their lengths\n",
        "runs_total = 0\n",
        "runs_of_length = defaultdict(int)\n",
        "run_start_index = 0\n",
        "for index in range(1, len(bits)):\n",
        "    if bits[index] != bits[run_start_index]:\n",
        "        # End of this run\n",
        "        run_length = index - run_start_index\n",
        "        runs_total += 1\n",
        "        runs_of_length[run_length] += 1\n",
        "        # Start the next run\n",
        "        run_start_index = index\n",
        "        \n",
        "# Count the final run\n",
        "run_length = len(bits) - run_start_index\n",
        "runs_total += 1\n",
        "runs_of_length[run_length] += 1\n",
        "print()\n",
        "print(f'Number of runs (any length): {runs_total:6}')\n",
        "print(f'Runs of length 1: {runs_of_length[1]:6}')\n",
        "print(f'Runs of length 2: {runs_of_length[2]:6}')\n",
        "print(f'Runs of length 3: {runs_of_length[3]:6}')"
      ]
    },
    {
      "cell_type": "markdown",
      "source": [
        "1. Determine the expected number of 0s and 1s in a sequence of n random bits (not the image file above).\n"
      ],
      "metadata": {
        "id": "uhX77G6SXASq"
      }
    },
    {
      "cell_type": "markdown",
      "source": [
        "Expected number of 0s = Expected number of 1s = n//2"
      ],
      "metadata": {
        "id": "tHWlK1-RXqLy"
      }
    },
    {
      "cell_type": "markdown",
      "source": [
        "2. \n",
        "A run is defined as a sequence of consecutive 0s or 1s. For example, this bit sequence contains 5 runs.\n",
        "\n",
        "1 1 0 0 1 1 1 0 0 1\n",
        "\n",
        "There are 3 runs of length 2, 1 run of length 1, and 1 run of length 3 as indicated below.\n",
        "\n",
        "runs   | 1 1 | 0 0 | 1 1 1 | 0 0 | 1 |\n",
        "\n",
        "lengths 2 2 3 2 1\n",
        "\n",
        "Determine the expected value of the number of runs (of any length) in a sequence of n\n",
        "random bits.\n"
      ],
      "metadata": {
        "id": "25pNIW4IXGkR"
      }
    },
    {
      "cell_type": "code",
      "source": [
        "\"\"\"\n",
        "Using R.I.V:\n",
        "Let I_j be the Random indicator variable such that:\n",
        "I_j = 1 if jth value is the start of a new run, otherwise I_j = 0.\n",
        "j ranges from 1 to n. \n",
        "=> Expected value = Sum of I_j \n",
        "\n",
        "We have I_1 = 1 (the first value is definitely the start of a new run)\n",
        "For j = 2 to j = n \n",
        "Start of new run = having the opposite value from previous value \n",
        "=> If the previous value is 1 -> 1/2 probability of getting 0\n",
        "=> If previous value is 0 => 1/2 probability of getting 1\n",
        "=> I_j = 1/2 * 1/2 * 2 = 1/2\n",
        "\n",
        "\"\"\"\n",
        "from sympy import Sum\n",
        "from sympy.abc import n\n",
        "expected_value_no_of_runs = 1 + 1/2 * (n - 1)\n",
        "print(expected_value_no_of_runs)"
      ],
      "metadata": {
        "id": "oXwqffmvXQgc",
        "colab": {
          "base_uri": "https://localhost:8080/"
        },
        "outputId": "7405b96c-1a2a-4cae-f121-37194b5674b3"
      },
      "execution_count": 29,
      "outputs": [
        {
          "output_type": "stream",
          "name": "stdout",
          "text": [
            "0.5*n + 0.5\n"
          ]
        }
      ]
    },
    {
      "cell_type": "markdown",
      "source": [
        "3. Determine the expected value of the number of runs of length exactly k in a sequence\n",
        "of n random bits.\n",
        "\n"
      ],
      "metadata": {
        "id": "FPUt295PXROZ"
      }
    },
    {
      "cell_type": "code",
      "source": [
        "\"\"\"\n",
        "Using R.I.V:\n",
        "Let I_j be the Random indicator variable such that:\n",
        "I_j = 1 if jth value is the start of a new run, , otherwise I_j = 0.\n",
        "j ranges from 1 to n. \n",
        "=> Expected value = Sum of I_j \n",
        "\n",
        "We have I_j = (1/2)**k \n",
        "Start of new run with length of exactly k \n",
        "\n",
        "For j = 2 to j = n\n",
        "If the previous value is 1 \n",
        "-> (1/2)**k probability of getting 0 k times, and 1/2 probability that the (k+1)th time is 1\n",
        "If previous value is 0 \n",
        "=> (1/2)**k probability of getting 1 k times, and 1/2 probability that the (k+1)th time is 0\n",
        "=> I_j = 2 * (1/2) * (1/2) ** k * 1/2 = (1/2) ** (k + 1)\n",
        "\n",
        "For j = 1 => We don't need to consider previous value\n",
        "=> Probability = (1/2) ** k  \n",
        "\n",
        "\"\"\"\n",
        "from sympy import Sum\n",
        "from sympy.abc import n, k\n",
        "expected_value_no_of_runs_k = (n - 1) * (1/2)**(k + 1) + (1/2) ** k\n",
        "print(expected_value_no_of_runs_k)"
      ],
      "metadata": {
        "id": "2osOG41eXSz1",
        "colab": {
          "base_uri": "https://localhost:8080/"
        },
        "outputId": "354812e9-265b-45a8-c860-3c19664c7dcd"
      },
      "execution_count": 30,
      "outputs": [
        {
          "output_type": "stream",
          "name": "stdout",
          "text": [
            "0.5**k + 0.5**(k + 1)*(n - 1)\n"
          ]
        }
      ]
    },
    {
      "cell_type": "markdown",
      "source": [
        "4. Compare your results from (1.), (2.), and (3.) to the counts we got for the file above. Do\n",
        "you think the file is optimally compressed? Explain your answer.\""
      ],
      "metadata": {
        "id": "Feh2TuPvXTit"
      }
    },
    {
      "cell_type": "code",
      "source": [
        "\"\"\"\n",
        "Null hypothesis = it is optimally compressed i.e. it behaves like a random bit sequence\n",
        "We establish this by running multiple trials and see if the value we get is within\n",
        "the 95% confidence interval of an optimally compressed file\n",
        "\"\"\"\n",
        "import random\n",
        "from collections import defaultdict\n",
        "\n",
        "trials = 100\n",
        "no_of_bits = 225672\n",
        "zeroes_lst = []\n",
        "ones_lst = []\n",
        "runs_lst = []\n",
        "runs_1_lst = []\n",
        "runs_2_lst = []\n",
        "runs_3_lst = []\n",
        "\n",
        "for _ in range(trials):\n",
        "    bits = [random.randint(0, 1) for _ in range(no_of_bits)]\n",
        "    no_of_ones = sum(bits)\n",
        "    no_of_zeros = no_of_bits - no_of_ones\n",
        "    zeroes_lst.append(no_of_zeros)\n",
        "    ones_lst.append(no_of_ones)\n",
        "\n",
        "\n",
        "    # Count the runs and their lengths\n",
        "    runs_total = 0\n",
        "    runs_of_length = defaultdict(int)\n",
        "    run_start_index = 0\n",
        "    for index in range(1, len(bits)):\n",
        "        if bits[index] != bits[run_start_index]:\n",
        "            # End of this run\n",
        "            run_length = index - run_start_index\n",
        "            runs_total += 1\n",
        "            runs_of_length[run_length] += 1\n",
        "            # Start the next run\n",
        "            run_start_index = index\n",
        "            \n",
        "    # Count the final run\n",
        "    run_length = len(bits) - run_start_index\n",
        "    runs_total += 1\n",
        "    runs_of_length[run_length] += 1\n",
        "\n",
        "    runs_lst.append(runs_total)\n",
        "    runs_1_lst.append(runs_of_length[1])\n",
        "    runs_2_lst.append(runs_of_length[2])\n",
        "    runs_3_lst.append(runs_of_length[3])\n",
        "\n"
      ],
      "metadata": {
        "id": "LZvaNYRzXU24"
      },
      "execution_count": 31,
      "outputs": []
    },
    {
      "cell_type": "code",
      "source": [
        "import numpy as np, scipy.stats as st\n",
        "\n",
        "zeroes_cf = st.t.interval(0.95, len(zeroes_lst)-1, loc=np.mean(zeroes_lst), scale=st.sem(zeroes_lst))\n",
        "print(\"Confidence interval of number of zeroes\", zeroes_cf)\n",
        "print(\"Empirical value =\", no_of_bits//2)\n",
        "print(\"Value we get = 112392\")\n",
        "print()\n",
        "ones_cf = st.t.interval(0.95, len(ones_lst)-1, loc=np.mean(ones_lst), scale=st.sem(ones_lst))\n",
        "print(\"Confidence interval of number of ones\", ones_cf)\n",
        "print(\"Empirical value =\", no_of_bits//2)\n",
        "print(\"Value we get = 113280\")\n",
        "print()\n",
        "runs_cf = st.t.interval(0.95, len(runs_lst)-1, loc=np.mean(runs_lst), scale=st.sem(runs_lst))\n",
        "print(\"Confidence interval of number of runs\", runs_cf)\n",
        "print(\"Empirical value =\", expected_value_no_of_runs.subs({n: no_of_bits}))\n",
        "print(\"Value we get = 113198\")\n",
        "print()\n",
        "\n",
        "runs_1_cf = st.t.interval(0.95, len(runs_1_lst)-1, loc=np.mean(runs_1_lst), scale=st.sem(runs_1_lst))\n",
        "print(\"Confidence interval of number of runs of length 1\", runs_1_cf)\n",
        "print(\"Empirical value =\", expected_value_no_of_runs_k.subs({n: no_of_bits, k:1}))\n",
        "print(\"Value we get = 56241\")\n",
        "print()\n",
        "\n",
        "runs_2_cf = st.t.interval(0.95, len(runs_2_lst)-1, loc=np.mean(runs_2_lst), scale=st.sem(runs_2_lst))\n",
        "print(\"Confidence interval of number of runs of length 2\", runs_2_cf)\n",
        "print(\"Empirical value =\", expected_value_no_of_runs_k.subs({n: no_of_bits, k:2}))\n",
        "print(\"Value we get = 28831\")\n",
        "print()\n",
        "runs_3_cf = st.t.interval(0.95, len(runs_3_lst)-1, loc=np.mean(runs_3_lst), scale=st.sem(runs_3_lst))\n",
        "print(\"Confidence interval of number of runs of length 3\", runs_3_cf)\n",
        "print(\"Empirical value =\", expected_value_no_of_runs_k.subs({n: no_of_bits, k:3}))\n",
        "print(\"Value we get = 14438\")\n"
      ],
      "metadata": {
        "colab": {
          "base_uri": "https://localhost:8080/"
        },
        "id": "qoRP-MfEH5TI",
        "outputId": "63371038-c1d1-424c-946b-660de6bfd9fd"
      },
      "execution_count": 32,
      "outputs": [
        {
          "output_type": "stream",
          "name": "stdout",
          "text": [
            "Confidence interval of number of zeroes (112744.95327450075, 112844.84672549924)\n",
            "Empirical value = 112836\n",
            "Value we get = 112392\n",
            "\n",
            "Confidence interval of number of ones (112827.15327450076, 112927.04672549925)\n",
            "Empirical value = 112836\n",
            "Value we get = 113280\n",
            "\n",
            "Confidence interval of number of runs (112786.4509459582, 112876.24905404181)\n",
            "Empirical value = 112836.500000000\n",
            "Value we get = 113198\n",
            "\n",
            "Confidence interval of number of runs of length 1 (56369.45805484503, 56473.68194515497)\n",
            "Empirical value = 56418.2500000000\n",
            "Value we get = 56241\n",
            "\n",
            "Confidence interval of number of runs of length 2 (28166.886128726703, 28222.173871273295)\n",
            "Empirical value = 28209.1250000000\n",
            "Value we get = 28831\n",
            "\n",
            "Confidence interval of number of runs of length 3 (14088.200703842058, 14129.419296157941)\n",
            "Empirical value = 14104.5625000000\n",
            "Value we get = 14438\n"
          ]
        }
      ]
    },
    {
      "cell_type": "markdown",
      "source": [
        "The above calculation is used both to check the calculation in part a and b, and the values we get from the Python compression file. None of the values we get from the Python compression file is in the confidence interval range for a truly random bit of string, so based on this, we can say that the bits is, from a strictly statistical perspective, not fully random, and thus not fully optimised. \n",
        "\n",
        "However, we can also see that while it is outside of the confidence interval value, it is not that far away from the empirical value in order of magnitude (considering we have 10^5-10^6 bits but it is only off by a factor of 10^2). So it is actually pretty close to random bits. Thus from a practical standpoint, it is close to being optimally compressed. "
      ],
      "metadata": {
        "id": "rpKiDzwT5iq-"
      }
    },
    {
      "cell_type": "markdown",
      "source": [
        "#Question 2"
      ],
      "metadata": {
        "id": "kXPIaE-aZloz"
      }
    },
    {
      "cell_type": "markdown",
      "source": [
        "A book has $n$ typos. Two proofreaders, Sho and Haruna, independently read the book. Sho\n",
        "finds each typo independently with probability $p1$, and Haruna with probability $p2$. Let $X_1$ be\n",
        "the number of typos caught by Sho, $X_2$ be the number caught by Haruna, and $X$ be the\n",
        "number caught by at least one of the two proofreaders.\n",
        "1. Find the distribution of $X$. Motivate your answer.\n",
        "\n"
      ],
      "metadata": {
        "id": "5DJbn9PPZtT1"
      }
    },
    {
      "cell_type": "code",
      "source": [
        "\"\"\"\n",
        "This is a binomial distribution because it satisfies:\n",
        "- Fixed number of observations (n typos)\n",
        "- Each observation falls into either success or failure (caught or not caught)\n",
        "- Observations are independent - both proofreaders independently read the book and\n",
        "finds each typo independently\n",
        "- probability of success p is the same\n",
        "p = 1 - (1-p1)(1-p2) = 1 - 1 + p1 + p2 - p1p2 = p1 + p2 - p1p2\n",
        "\"\"\"\n",
        "\n",
        "from sympy import binomial, Symbol\n",
        "from sympy.abc import n, k\n",
        "\n",
        "p1, p2 = Symbol(\"p1\"), Symbol(\"p2\")\n",
        "X = binomial(n, k) * (p1 + p2 - p1*p2) ** k * (1 - (p1 + p2 - p1*p2)) ** (n - k)\n"
      ],
      "metadata": {
        "id": "Q8IEeda7Znbg"
      },
      "execution_count": 33,
      "outputs": []
    },
    {
      "cell_type": "code",
      "source": [
        "'''\n",
        "Simulation to test the results\n",
        "'''\n",
        "import random\n",
        "import matplotlib.pyplot as plt\n",
        "\n",
        "P1 = 0.7\n",
        "P2 = 0.65\n",
        "N = 500\n",
        "trials = 10000\n",
        "K_vals = []\n",
        "\n",
        "for _ in range(trials):\n",
        "    found = [0] * N\n",
        "    for i in range(N):\n",
        "        #if either Shou or Haruna found it\n",
        "        if random.random() < P1:\n",
        "            found[i] = 1\n",
        "        if random.random() < P2:\n",
        "            found[i] = 1\n",
        "    #sum(found) is rvs of X\n",
        "    K_vals.append(sum(found))\n",
        "\n"
      ],
      "metadata": {
        "id": "cnQLg8AeiGvT"
      },
      "execution_count": 43,
      "outputs": []
    },
    {
      "cell_type": "code",
      "source": [
        "plt.hist(K_vals, density=True, bins = 20, label=\"Stimulation probability\")\n",
        "\n",
        "#empirical value\n",
        "pdf = []\n",
        "all_ks = [i for i in range(min(K_vals), max(K_vals) + 1)]\n",
        "\n",
        "for K in range(min(K_vals), max(K_vals) + 1):\n",
        "    pdf.append(X.subs({n: N, k: K, p1: P1, p2: P2}))\n",
        "\n",
        "plt.plot(all_ks, pdf, color = 'b', label=\"Empirical probability\")\n",
        "plt.xlabel(\"number of typos caught by either reader\")\n",
        "plt.ylabel(\"probability density\")\n",
        "plt.legend()\n",
        "plt.show()\n",
        "\n",
        "\n"
      ],
      "metadata": {
        "colab": {
          "base_uri": "https://localhost:8080/",
          "height": 282
        },
        "id": "SngT-FD4j4oK",
        "outputId": "a395426c-710e-4b0d-eed6-e39f7d4182a5"
      },
      "execution_count": 51,
      "outputs": [
        {
          "output_type": "display_data",
          "data": {
            "text/plain": [
              "<Figure size 432x288 with 1 Axes>"
            ],
            "image/png": "[encoded data removed]"
          },
          "metadata": {
            "needs_background": "light"
          }
        }
      ]
    },
    {
      "cell_type": "markdown",
      "source": [
        "2. Assuming $p1=p2$, find the conditional distribution of $X_1$ given that $X_1+X_2=t$.\n",
        "That is, if we know $t$ typos were found, how many were found by the first proofreader?\n",
        "\n",
        "Hint: $X_1+X_2\\neq X$. Note that we are conditioning on the number of typos found by\n",
        "Sho plus the number found by Haruna. This is not the same as the number of typos\n",
        "found by at least one of the two proofreaders — we are double-counting the typos\n",
        "found by both of them."
      ],
      "metadata": {
        "id": "2zvCliKvazdu"
      }
    },
    {
      "cell_type": "code",
      "source": [
        "\"\"\"\n",
        "P(X1 = x | X1 + X2 = t) = P(X1 = x & X1 + X2 = t) / P(X1 + X2 = t)\n",
        "\n",
        "P(X1 + X2 = t) = Probability we find t typos in total \n",
        "= t successes in 2*n trials (because Shou reads it once and Haruna reads it once)\n",
        "P(X1 + X2 = t) = 2nCt * p1**t * (1 - p1) ** (2n - t)\n",
        "\n",
        "P(X1 = x & X1 + X2 = t) = Probability we find t typos in total, and Shou finds x typos \n",
        "i.e. Probability Shou finds x typos, and Haruna finds t - x typos\n",
        "= nCx * (p1)**x * (1-p1)**(n - x) * nC(t-x) * p1**(t-x) * (1-p1)**(n - t + x)\n",
        "\"\"\"\n",
        "from sympy import binomial, Symbol\n",
        "from sympy.abc import n, k, t\n",
        "\n",
        "numerator = binomial(n, k) * p1**k * (1 - p1)**(n-k) * binomial(n, t - k) * p1**(t-k) * (1-p1)**(n-t+k)\n",
        "denominator = binomial(2*n, t) * p1**t * (1-p1)**(2*n - t)\n",
        "ans = numerator/denominator\n"
      ],
      "metadata": {
        "id": "g3FNpLGyb4GO"
      },
      "execution_count": 36,
      "outputs": []
    },
    {
      "cell_type": "code",
      "source": [
        "\"\"\"\n",
        "Simulation to check our answer\n",
        "\"\"\"\n",
        "import random\n",
        "\n",
        "trials = 10000\n",
        "P1 = P2 = 0.8\n",
        "N = 100\n",
        "T = 160\n",
        "K = 80\n",
        "\n",
        "found_t_errors = 0\n",
        "shou_found_k_errors = 0\n",
        "for _ in range(trials):\n",
        "    shou = 0\n",
        "    for _ in range(N):\n",
        "        if random.random() < P1:\n",
        "            #shou found a typo\n",
        "            shou += 1\n",
        "\n",
        "    haruna = 0 \n",
        "    for _ in range(N):\n",
        "        if random.random() < P2:\n",
        "            #haruna found a typo\n",
        "            haruna += 1\n",
        "    \n",
        "    #given that X1 + X2 = t\n",
        "    if shou + haruna == T:\n",
        "        found_t_errors += 1\n",
        "        #count time where t = k\n",
        "        if shou == K:\n",
        "            shou_found_k_errors += 1\n",
        "\n",
        "print(\"Stimulated probability =\", shou_found_k_errors/ found_t_errors)\n",
        "print(\"Empirical probability =\", ans.subs({n:N, t:T, k:K, p1:P1,p2:P2}))"
      ],
      "metadata": {
        "colab": {
          "base_uri": "https://localhost:8080/"
        },
        "id": "eipRASbWMTfS",
        "outputId": "8fcb542f-7990-4cb7-dbdc-c75ad440455d"
      },
      "execution_count": 37,
      "outputs": [
        {
          "output_type": "stream",
          "name": "stdout",
          "text": [
            "Stimulated probability = 0.13199426111908177\n",
            "Empirical probability = 0.140124894775049\n"
          ]
        }
      ]
    },
    {
      "cell_type": "markdown",
      "source": [
        "3. You write a book with 100,000 words. On average, you make a typo once every 300\n",
        "words. Sho and Haruna proofread your book. Sho finds 297 typos while Haruna finds\n",
        "312 typos. Use model selection to decide whether Haruna is better than Sho at finding\n",
        "typos or whether it is just a coincidence that she found more than Sho this time.\n",
        "\n",
        "Hints:\n",
        "- Follow the frequentist model selection recipe from the Session 12 Study Guide.\n",
        "- For the null model, think carefully about which distribution to use for the number\n",
        "of typos that exist in the book.\n",
        "- You’ll need your answer to part (2.) above.\n",
        "- You will need to implement a simulation for this problem. Don’t rely on looking up\n",
        "a known distribution of the test statistic."
      ],
      "metadata": {
        "id": "Cr2xneCxahFm"
      }
    },
    {
      "cell_type": "code",
      "source": [
        "\"\"\"\n",
        "For number of typos that exist in the book\n",
        "=> Poisson distribution is most appropriate, because it fits all the requirements:\n",
        "- All events are independent (typos are made independently)\n",
        "- The average rate of event is 1/300 words, so for the book it is 100,000/300\n",
        "- Two events cannot occur at the same time (cannot have two typos for the same word)\n",
        "\n",
        "However, we know that Haruna found 312 typos. Assuming there is no false positive, \n",
        "the lower bound for Poisson distribution is 312.\n",
        "\n",
        "The strategy for this is:\n",
        "1. Sample from a Poisson distribution with mean of (100,000/300) until we get\n",
        "a value > 312. This is our number of typos.\n",
        "2. We already know t = 312 + 297, if p1 = p2 then we can get p = t/ 2 * (number of typo)\n",
        "3. Use answer in part 2 to find the probability that Shou found 297 errors. \n",
        "This is our p-value for the null hypothesis that p1 = p2.\n",
        "4. Run multiple trials of 1-3 and average out the probability.\n",
        "\"\"\"\n",
        "import numpy as np\n",
        "from scipy.stats import poisson\n",
        "import matplotlib.pyplot as plt\n",
        "import scipy.stats as st\n",
        "\n",
        "\n",
        "trials = 1000\n",
        "mu = 100000/300\n",
        "distribution = poisson(mu)\n",
        "total_typos_found = 312 + 297\n",
        "shou_typos_found = 297\n",
        "\n",
        "probability = ans\n",
        "\n",
        "p_vals = []\n",
        "\n",
        "for _ in range(trials):\n",
        "    no_of_typos = distribution.rvs()\n",
        "    while no_of_typos < 312:\n",
        "        no_of_typos = distribution.rvs()\n",
        "    assumed_probability = total_typos_found / (2 * no_of_typos)\n",
        "    p_val = float(ans.subs({n:no_of_typos, t:total_typos_found, k:shou_typos_found, \n",
        "                      p1:assumed_probability,p2:assumed_probability}))\n",
        "    if np.isnan(p_val):\n",
        "        print(no_of_typos, assumed_probability)\n",
        "    p_vals.append(p_val)\n",
        "\n",
        "\n"
      ],
      "metadata": {
        "id": "liEHN0uPaoLT"
      },
      "execution_count": 38,
      "outputs": []
    },
    {
      "cell_type": "code",
      "source": [
        "#finding the confidence interval for p_val\n",
        "cf = st.t.interval(0.95, len(p_vals)-1, loc=np.mean(p_vals), scale=st.sem(p_vals))\n",
        "print(\"Confidence interval for p-val\", cf)\n",
        "print(\"Mean estimate for p-val\", np.mean(p_vals))"
      ],
      "metadata": {
        "colab": {
          "base_uri": "https://localhost:8080/"
        },
        "id": "VcZdBRUR-WmW",
        "outputId": "e3e7972e-c123-4428-d11a-81c4d61b1e4a"
      },
      "execution_count": 39,
      "outputs": [
        {
          "output_type": "stream",
          "name": "stdout",
          "text": [
            "Confidence interval for p-val (0.013572546362367245, 0.014578027360243398)\n",
            "Mean estimate for p-val 0.014075286861305322\n"
          ]
        }
      ]
    },
    {
      "cell_type": "code",
      "source": [
        "plt.plot(p_vals)\n",
        "plt.axhline(y = np.mean(p_vals), color = 'r', linestyle = '-', label=\"Average p-val\")\n",
        "plt.axhline(y=cf[0], color = 'orange', linestyle='--', label=\"95% CI lower bound\")\n",
        "plt.axhline(y=cf[1], color = 'orange', linestyle='--', label=\"95% CI upper bound\")\n",
        "plt.xlabel(\"Trials\")\n",
        "plt.ylabel(\"p_val\")\n",
        "plt.legend()\n",
        "plt.show()"
      ],
      "metadata": {
        "colab": {
          "base_uri": "https://localhost:8080/",
          "height": 279
        },
        "id": "VLo3Nyp9AbUQ",
        "outputId": "3101855c-0628-4aa5-aef2-691c398919a5"
      },
      "execution_count": 52,
      "outputs": [
        {
          "output_type": "display_data",
          "data": {
            "text/plain": [
              "<Figure size 432x288 with 1 Axes>"
            ],
            "image/png": "[encoded data removed]"
          },
          "metadata": {
            "needs_background": "light"
          }
        }
      ]
    },
    {
      "cell_type": "markdown",
      "source": [
        "Based on the stimulation, we get the mean p-val to be 0.014, which means that our null hypothesis, p1 = p2, i.e. Shou and Haruna finds the same number of typos, is rejected (as p < 0.05). I further calculated the confidence interval and it is in the range of (0.0135, 0.0145) so we can have confidence that Haruna is better at finding typos than Shou and this difference is statistically significant."
      ],
      "metadata": {
        "id": "7UJfQmfc4miD"
      }
    },
    {
      "cell_type": "code",
      "source": [],
      "metadata": {
        "id": "pOuz7z9R2EpR"
      },
      "execution_count": 40,
      "outputs": []
    }
  ]
}